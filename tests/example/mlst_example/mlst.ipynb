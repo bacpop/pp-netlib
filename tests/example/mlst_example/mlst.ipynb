{
 "cells": [
  {
   "cell_type": "code",
   "execution_count": null,
   "metadata": {},
   "outputs": [],
   "source": [
    "import pandas as pd\n",
    "from pp_netlib.network import Network\n",
    "datafile = \"strep_MLST.tsv\"\n",
    "data = pd.read_csv(datafile, sep= \"\\t\", header=0)\n",
    "\n",
    "## cleaning up the data a little\n",
    "data.drop(\"clonal_complex\", axis = 1, inplace=True)\n",
    "data[\"ST\"] = \"ST_\" + data[\"ST\"].astype(str)\n",
    "data.index = data[\"ST\"]\n",
    "data.drop(\"ST\", axis = 1, inplace=True)\n",
    "data"
   ]
  },
  {
   "cell_type": "code",
   "execution_count": null,
   "metadata": {},
   "outputs": [],
   "source": [
    "data[\"mlst\"] = data[[\"aroE\", \"gdh\", \"gki\", \"recP\", \"spi\", \"xpt\", \"ddl\"]].values.tolist()\n",
    "data_dict = dict(zip(data.index, data[\"mlst\"]))\n",
    "data_dict"
   ]
  },
  {
   "cell_type": "code",
   "execution_count": null,
   "metadata": {},
   "outputs": [],
   "source": [
    "def hamming_distance(list1, list2):\n",
    "    match_score = 0\n",
    "    for i in range(len(list1)):\n",
    "        if list1[i] ==  list2[i]:\n",
    "            match_score += 1\n",
    "\n",
    "    return match_score\n"
   ]
  },
  {
   "cell_type": "code",
   "execution_count": null,
   "metadata": {},
   "outputs": [],
   "source": [
    "mlst_dist_df = pd.DataFrame(index = data.index, columns = data.index)\n",
    "sources = []\n",
    "targets = []\n",
    "weights = []\n",
    "for i in range(len(data.index)):\n",
    "    for j in range(i+1, len(data.index)):\n",
    "        ham_dist = hamming_distance(data_dict[data.index[i]], data_dict[data.index[j]])\n",
    "        mlst_dist_df.loc[data.index[i], data.index[j]] = ham_dist\n",
    "        mlst_dist_df.loc[data.index[j], data.index[i]] = ham_dist\n",
    "        sources.append(data.index[i])\n",
    "        targets.append(data.index[j])\n",
    "        weights.append(ham_dist)\n",
    "\n",
    "mlst_dist_df"
   ]
  },
  {
   "cell_type": "code",
   "execution_count": null,
   "metadata": {},
   "outputs": [],
   "source": [
    "mlst_dist_df.fillna(7, inplace=True)\n",
    "mlst_dist_df"
   ]
  },
  {
   "cell_type": "code",
   "execution_count": null,
   "metadata": {},
   "outputs": [],
   "source": [
    "mlst_dist_df.to_csv(\"mlst_distances.csv\", sep = \",\", header = True, index = True)"
   ]
  },
  {
   "cell_type": "code",
   "execution_count": null,
   "metadata": {},
   "outputs": [],
   "source": [
    "edge_list = []\n",
    "for i in range(len(mlst_dist_df.index)):\n",
    "    for j in range(i+1, len(mlst_dist_df.index)):\n",
    "        if mlst_dist_df.loc[mlst_dist_df.index[i], mlst_dist_df.index[j]] > 6:\n",
    "            edge_list.append((mlst_dist_df.index[i], mlst_dist_df.index[j], mlst_dist_df.loc[mlst_dist_df.index[i], mlst_dist_df.index[j]]))\n",
    "\n",
    "print(edge_list[:5])\n",
    "print(len(edge_list))"
   ]
  },
  {
   "cell_type": "code",
   "execution_count": null,
   "metadata": {},
   "outputs": [],
   "source": [
    "all_edges = list(zip(sources, targets, weights))\n",
    "weights_gt_5 = []\n",
    "for i in range(len(weights)):\n",
    "    if weights[i] > 5:\n",
    "        weights_gt_5.append((sources[i], targets[i], weights[i]))\n",
    "        \n",
    "print(len(all_edges))\n",
    "print(len(weights_gt_5))"
   ]
  },
  {
   "cell_type": "code",
   "execution_count": null,
   "metadata": {},
   "outputs": [],
   "source": [
    "from pp_netlib.network import Network\n",
    "\n",
    "mlst_network = Network(ref_list=data.index, backend=\"GT\")\n",
    "mlst_network.construct(network_data=weights_gt_5, weights=True)"
   ]
  },
  {
   "cell_type": "code",
   "execution_count": null,
   "metadata": {},
   "outputs": [],
   "source": [
    "filt_sources, filt_targets, filt_weights = zip(*weights_gt_5)"
   ]
  },
  {
   "cell_type": "code",
   "execution_count": null,
   "metadata": {},
   "outputs": [],
   "source": [
    "len(filt_sources)"
   ]
  },
  {
   "cell_type": "code",
   "execution_count": null,
   "metadata": {},
   "outputs": [],
   "source": [
    "filt_df = pd.DataFrame()\n",
    "filt_df[\"source\"] = filt_sources\n",
    "filt_df[\"target\"] = filt_targets\n",
    "filt_df[\"weight\"] = filt_weights\n",
    "\n",
    "filt_df"
   ]
  },
  {
   "cell_type": "code",
   "execution_count": null,
   "metadata": {},
   "outputs": [],
   "source": [
    "filt_df.to_csv(\"mlst_dist_gt5.csv\", sep = \"\\t\", header = True, index = False)"
   ]
  },
  {
   "cell_type": "code",
   "execution_count": null,
   "metadata": {},
   "outputs": [],
   "source": [
    "all_df = pd.DataFrame()\n",
    "all_df[\"source\"] = sources\n",
    "all_df[\"target\"] = targets\n",
    "all_df[\"weight\"] = weights\n",
    "\n",
    "all_df.to_csv(\"mlst_all_dists.csv\", sep = \"\\t\", header = True, index = False)"
   ]
  },
  {
   "cell_type": "code",
   "execution_count": null,
   "metadata": {},
   "outputs": [],
   "source": []
  },
  {
   "cell_type": "code",
   "execution_count": null,
   "metadata": {},
   "outputs": [],
   "source": []
  }
 ],
 "metadata": {
  "kernelspec": {
   "display_name": "Python 3.10.6 ('pp_netlib_dev')",
   "language": "python",
   "name": "python3"
  },
  "language_info": {
   "codemirror_mode": {
    "name": "ipython",
    "version": 3
   },
   "file_extension": ".py",
   "mimetype": "text/x-python",
   "name": "python",
   "nbconvert_exporter": "python",
   "pygments_lexer": "ipython3",
   "version": "3.10.6"
  },
  "orig_nbformat": 4,
  "vscode": {
   "interpreter": {
    "hash": "f057d286e09f9eff3b12faa6cc88a50f2ffa647b81e1b298f85de24733dcb98b"
   }
  }
 },
 "nbformat": 4,
 "nbformat_minor": 2
}
