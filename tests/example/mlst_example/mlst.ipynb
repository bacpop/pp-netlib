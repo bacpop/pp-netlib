{
 "cells": [
  {
   "cell_type": "code",
   "execution_count": 29,
   "metadata": {},
   "outputs": [
    {
     "data": {
      "text/html": [
       "<div>\n",
       "<style scoped>\n",
       "    .dataframe tbody tr th:only-of-type {\n",
       "        vertical-align: middle;\n",
       "    }\n",
       "\n",
       "    .dataframe tbody tr th {\n",
       "        vertical-align: top;\n",
       "    }\n",
       "\n",
       "    .dataframe thead th {\n",
       "        text-align: right;\n",
       "    }\n",
       "</style>\n",
       "<table border=\"1\" class=\"dataframe\">\n",
       "  <thead>\n",
       "    <tr style=\"text-align: right;\">\n",
       "      <th></th>\n",
       "      <th>aroE</th>\n",
       "      <th>gdh</th>\n",
       "      <th>gki</th>\n",
       "      <th>recP</th>\n",
       "      <th>spi</th>\n",
       "      <th>xpt</th>\n",
       "      <th>ddl</th>\n",
       "    </tr>\n",
       "    <tr>\n",
       "      <th>ST</th>\n",
       "      <th></th>\n",
       "      <th></th>\n",
       "      <th></th>\n",
       "      <th></th>\n",
       "      <th></th>\n",
       "      <th></th>\n",
       "      <th></th>\n",
       "    </tr>\n",
       "  </thead>\n",
       "  <tbody>\n",
       "    <tr>\n",
       "      <th>ST_1</th>\n",
       "      <td>1</td>\n",
       "      <td>1</td>\n",
       "      <td>1</td>\n",
       "      <td>1</td>\n",
       "      <td>1</td>\n",
       "      <td>1</td>\n",
       "      <td>1</td>\n",
       "    </tr>\n",
       "    <tr>\n",
       "      <th>ST_2</th>\n",
       "      <td>1</td>\n",
       "      <td>1</td>\n",
       "      <td>4</td>\n",
       "      <td>1</td>\n",
       "      <td>18</td>\n",
       "      <td>13</td>\n",
       "      <td>18</td>\n",
       "    </tr>\n",
       "    <tr>\n",
       "      <th>ST_3</th>\n",
       "      <td>1</td>\n",
       "      <td>5</td>\n",
       "      <td>1</td>\n",
       "      <td>8</td>\n",
       "      <td>14</td>\n",
       "      <td>11</td>\n",
       "      <td>14</td>\n",
       "    </tr>\n",
       "    <tr>\n",
       "      <th>ST_4</th>\n",
       "      <td>1</td>\n",
       "      <td>5</td>\n",
       "      <td>2</td>\n",
       "      <td>20</td>\n",
       "      <td>1</td>\n",
       "      <td>1</td>\n",
       "      <td>1</td>\n",
       "    </tr>\n",
       "    <tr>\n",
       "      <th>ST_5</th>\n",
       "      <td>1</td>\n",
       "      <td>5</td>\n",
       "      <td>2</td>\n",
       "      <td>11</td>\n",
       "      <td>9</td>\n",
       "      <td>3</td>\n",
       "      <td>51</td>\n",
       "    </tr>\n",
       "    <tr>\n",
       "      <th>...</th>\n",
       "      <td>...</td>\n",
       "      <td>...</td>\n",
       "      <td>...</td>\n",
       "      <td>...</td>\n",
       "      <td>...</td>\n",
       "      <td>...</td>\n",
       "      <td>...</td>\n",
       "    </tr>\n",
       "    <tr>\n",
       "      <th>ST_17933</th>\n",
       "      <td>5</td>\n",
       "      <td>130</td>\n",
       "      <td>4</td>\n",
       "      <td>2</td>\n",
       "      <td>10</td>\n",
       "      <td>1</td>\n",
       "      <td>6</td>\n",
       "    </tr>\n",
       "    <tr>\n",
       "      <th>ST_17934</th>\n",
       "      <td>8</td>\n",
       "      <td>11</td>\n",
       "      <td>10</td>\n",
       "      <td>1</td>\n",
       "      <td>6</td>\n",
       "      <td>8</td>\n",
       "      <td>31</td>\n",
       "    </tr>\n",
       "    <tr>\n",
       "      <th>ST_17935</th>\n",
       "      <td>10</td>\n",
       "      <td>12</td>\n",
       "      <td>2</td>\n",
       "      <td>1</td>\n",
       "      <td>152</td>\n",
       "      <td>28</td>\n",
       "      <td>181</td>\n",
       "    </tr>\n",
       "    <tr>\n",
       "      <th>ST_17936</th>\n",
       "      <td>614</td>\n",
       "      <td>12</td>\n",
       "      <td>2</td>\n",
       "      <td>1</td>\n",
       "      <td>152</td>\n",
       "      <td>28</td>\n",
       "      <td>14</td>\n",
       "    </tr>\n",
       "    <tr>\n",
       "      <th>ST_17937</th>\n",
       "      <td>10</td>\n",
       "      <td>16</td>\n",
       "      <td>71</td>\n",
       "      <td>1</td>\n",
       "      <td>325</td>\n",
       "      <td>17</td>\n",
       "      <td>6</td>\n",
       "    </tr>\n",
       "  </tbody>\n",
       "</table>\n",
       "<p>17915 rows × 7 columns</p>\n",
       "</div>"
      ],
      "text/plain": [
       "          aroE  gdh  gki  recP  spi  xpt  ddl\n",
       "ST                                           \n",
       "ST_1         1    1    1     1    1    1    1\n",
       "ST_2         1    1    4     1   18   13   18\n",
       "ST_3         1    5    1     8   14   11   14\n",
       "ST_4         1    5    2    20    1    1    1\n",
       "ST_5         1    5    2    11    9    3   51\n",
       "...        ...  ...  ...   ...  ...  ...  ...\n",
       "ST_17933     5  130    4     2   10    1    6\n",
       "ST_17934     8   11   10     1    6    8   31\n",
       "ST_17935    10   12    2     1  152   28  181\n",
       "ST_17936   614   12    2     1  152   28   14\n",
       "ST_17937    10   16   71     1  325   17    6\n",
       "\n",
       "[17915 rows x 7 columns]"
      ]
     },
     "execution_count": 29,
     "metadata": {},
     "output_type": "execute_result"
    }
   ],
   "source": [
    "import pandas as pd\n",
    "from pp_netlib.network import Network\n",
    "datafile = \"strep_MLST.tsv\"\n",
    "data = pd.read_csv(datafile, sep= \"\\t\", header=0)\n",
    "\n",
    "## cleaning up the data a little\n",
    "data.drop(\"clonal_complex\", axis = 1, inplace=True)\n",
    "data[\"ST\"] = \"ST_\" + data[\"ST\"].astype(str)\n",
    "data.index = data[\"ST\"]\n",
    "data.drop(\"ST\", axis = 1, inplace=True)\n",
    "data = data.groupby(data.index)[\"aroE\",\"gdh\",\"gki\",\"recP\",\"spi\",\"xpt\",\"ddl\"].apply(list)"
   ]
  },
  {
   "cell_type": "code",
   "execution_count": 12,
   "metadata": {},
   "outputs": [
    {
     "data": {
      "text/plain": [
       "(17915, 17915)"
      ]
     },
     "execution_count": 12,
     "metadata": {},
     "output_type": "execute_result"
    }
   ],
   "source": [
    "mult = data.dot(data.T)\n",
    "mult.shape"
   ]
  },
  {
   "cell_type": "code",
   "execution_count": 30,
   "metadata": {},
   "outputs": [
    {
     "data": {
      "text/plain": [
       "array([[     7,     56,     54, ...,    386,    823,    446],\n",
       "       [    56,    836,    665, ...,   6389,   3987,   6490],\n",
       "       [    54,    665,    604, ...,   5050,   3316,   4990],\n",
       "       ...,\n",
       "       [   386,   6389,   5050, ...,  56898,  32711,  51397],\n",
       "       [   823,   3987,   3316, ...,  32711, 401229,  56435],\n",
       "       [   446,   6490,   4990, ...,  51397,  56435, 111348]])"
      ]
     },
     "execution_count": 30,
     "metadata": {},
     "output_type": "execute_result"
    }
   ],
   "source": [
    "mult"
   ]
  }
 ],
 "metadata": {
  "kernelspec": {
   "display_name": "Python 3.8.2 ('poppunk_intel')",
   "language": "python",
   "name": "python3"
  },
  "language_info": {
   "codemirror_mode": {
    "name": "ipython",
    "version": 3
   },
   "file_extension": ".py",
   "mimetype": "text/x-python",
   "name": "python",
   "nbconvert_exporter": "python",
   "pygments_lexer": "ipython3",
   "version": "3.8.2"
  },
  "orig_nbformat": 4,
  "vscode": {
   "interpreter": {
    "hash": "cd28f33ff27b3818a5bb292a1550c8c09aeaa24e9abac2f929c93572bb2ab100"
   }
  }
 },
 "nbformat": 4,
 "nbformat_minor": 2
}
