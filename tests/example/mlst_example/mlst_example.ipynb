{
 "cells": [
  {
   "attachments": {},
   "cell_type": "markdown",
   "metadata": {},
   "source": [
    "MLST stands for **M**ulti-**l**ocus **s**equence **t**yping. This is a framework most often used to classify bacterial isolates based on a number (ususally 7) of fragments of housekeeping genes. Briefly, each new allele of one of these gene fragments is designated as a number, and a set of 7 such numbers denotes the \"sequence type\" of a sample.  \n",
    "\n",
    "In _Streptococcus pneumoniae_, MLST uses the genes aroE, gdh, gki, recP, spi, xpt, and ddl, which are all genes that code for various housekeeping enzymes.  If you downloaded and looked at the sequence-type (ST) profile data that's used here (which you can do from [PubMLST](https://pubmlst.org/bigsdb?db=pubmlst_spneumoniae_seqdef&page=plugin&name=ProfileExport)), you might see something like the following:  \n",
    "\n",
    "ST\t|   aroE\t|   gdh\t|   gki\t|   recP\t|   spi\t|   xpt\t|   ddl\t|   clonal_complex  \n",
    "----|-----------|-------|-------|-----------|-------|-------|-------|------------------\n",
    "1\t|   1\t|   1\t|   1\t|   1\t|   1\t|   1\t|   1\t\n",
    "2\t|   1\t|   1\t|   4\t|   1\t|   18\t|   13\t|   18\t\n",
    "\n",
    "A useful way to estimate how related various STs might be, is to calculate the pairwise hamming distances between the allelic profiles of the STs, i.e., counting the number of alleles that are different between all the pairs of STs. The hamming distance gives us the measure of difference between a given pair of STs, and (7-hamming distance) thus tells us how similar they are. In the two STs shown above, the hamming distance is 4; the two STs differ at the alleles for gdh, spi, xpt, and ddl; and we record the similarity as 3. Doing this for all  of the STs in the data, and then only retaining those ST pairs that are identical at at least 5 loci, we can arrive at the following dataset:  "
   ]
  },
  {
   "cell_type": "code",
   "execution_count": 1,
   "metadata": {},
   "outputs": [
    {
     "data": {
      "text/html": [
       "<div>\n",
       "<style scoped>\n",
       "    .dataframe tbody tr th:only-of-type {\n",
       "        vertical-align: middle;\n",
       "    }\n",
       "\n",
       "    .dataframe tbody tr th {\n",
       "        vertical-align: top;\n",
       "    }\n",
       "\n",
       "    .dataframe thead th {\n",
       "        text-align: right;\n",
       "    }\n",
       "</style>\n",
       "<table border=\"1\" class=\"dataframe\">\n",
       "  <thead>\n",
       "    <tr style=\"text-align: right;\">\n",
       "      <th></th>\n",
       "      <th>source</th>\n",
       "      <th>target</th>\n",
       "      <th>weights</th>\n",
       "    </tr>\n",
       "  </thead>\n",
       "  <tbody>\n",
       "    <tr>\n",
       "      <th>0</th>\n",
       "      <td>ST_1</td>\n",
       "      <td>ST_2008</td>\n",
       "      <td>6</td>\n",
       "    </tr>\n",
       "    <tr>\n",
       "      <th>1</th>\n",
       "      <td>ST_1</td>\n",
       "      <td>ST_7172</td>\n",
       "      <td>6</td>\n",
       "    </tr>\n",
       "    <tr>\n",
       "      <th>2</th>\n",
       "      <td>ST_1</td>\n",
       "      <td>ST_10475</td>\n",
       "      <td>6</td>\n",
       "    </tr>\n",
       "    <tr>\n",
       "      <th>3</th>\n",
       "      <td>ST_1</td>\n",
       "      <td>ST_14379</td>\n",
       "      <td>6</td>\n",
       "    </tr>\n",
       "    <tr>\n",
       "      <th>4</th>\n",
       "      <td>ST_2</td>\n",
       "      <td>ST_819</td>\n",
       "      <td>6</td>\n",
       "    </tr>\n",
       "  </tbody>\n",
       "</table>\n",
       "</div>"
      ],
      "text/plain": [
       "  source    target  weights\n",
       "0   ST_1   ST_2008        6\n",
       "1   ST_1   ST_7172        6\n",
       "2   ST_1  ST_10475        6\n",
       "3   ST_1  ST_14379        6\n",
       "4   ST_2    ST_819        6"
      ]
     },
     "execution_count": 1,
     "metadata": {},
     "output_type": "execute_result"
    }
   ],
   "source": [
    "import pandas as pd\n",
    "edges_df = pd.read_csv(\"mlst_dist_gt5.csv\", sep = \"\\t\", header = 0)\n",
    "edges_df.head()"
   ]
  },
  {
   "attachments": {},
   "cell_type": "markdown",
   "metadata": {},
   "source": [
    "This sort of MLST similarity is a fair estimate of relatedness between the STs, and an effective way to work with this data is in the form of graphs (aka networks), where STs are the nodes, and their allelic profile similarity (as calculated above), are the weights on edges that connect the STs. `pp-netlib` is designed to drop into PopPUNK, but it can be used standalone (see [here](../../../README.md) for installation and docs) in this kind of application as well. The data this example uses is in this directory.  \n",
    "\n",
    "Running the following code imports the `Network` class from `pp-netlib`. Then it makes a set of samples, the list of unique ST labels in the first two columns of `edges_df` (which we loaded above). Note that `edges_df` has the columns \"source\", \"target\", and \"weights\".  \n",
    "\n",
    "Then, the code initialises a Network object with the `samples` set and a backend; this is the graph analysis library you would like to use. Here `pp-netlib` will use \"GT\", i.e. [graph-tool](https://graph-tool.skewed.de/static/doc/index.html). Finally, it constructs a network with the input data.  "
   ]
  },
  {
   "cell_type": "code",
   "execution_count": 3,
   "metadata": {},
   "outputs": [
    {
     "name": "stdout",
     "output_type": "stream",
     "text": [
      "There are 15068 unique nodes in the samples list\n"
     ]
    }
   ],
   "source": [
    "from pp_netlib.network import Network\n",
    "samples = set(edges_df[\"source\"]).union(set(edges_df[\"target\"]))\n",
    "\n",
    "print(f\"There are {len(samples)} unique nodes in the samples list\")\n",
    "\n",
    "## instantiate a Network object using graph-tool as the backend\n",
    "mlst_network = Network(ref_list=samples, backend=\"GT\")\n",
    "\n",
    "## construct the network\n",
    "mlst_network.construct(network_data=edges_df, weights=True)"
   ]
  },
  {
   "attachments": {},
   "cell_type": "markdown",
   "metadata": {},
   "source": [
    "You can run the following call to get `pp-netlib` to print a bunch of summary statistics about the graph that's just been constructed.  "
   ]
  },
  {
   "cell_type": "code",
   "execution_count": 3,
   "metadata": {},
   "outputs": [
    {
     "name": "stderr",
     "output_type": "stream",
     "text": [
      "Network summary:\n",
      "\tComponents\t\t\t\t874\n",
      "\tDensity\t\t\t\t\t0.0006\n",
      "\tTransitivity\t\t\t\t0.8140\n",
      "\tMean betweenness\t\t\t0.7434\n",
      "\tWeighted-mean betweenness\t\t0.5620\n",
      "\tScore\t\t\t\t\t0.8136\n",
      "\tScore (w/ betweenness)\t\t\t0.2088\n",
      "\tScore (w/ weighted-betweenness)\t\t0.3564\n",
      "\n",
      "\n"
     ]
    }
   ],
   "source": [
    "mlst_network.get_summary()"
   ]
  },
  {
   "attachments": {},
   "cell_type": "markdown",
   "metadata": {},
   "source": [
    "Pruning is, essentially, a way to simplify the full graph. This is useful when, for example, you want to add a new ST to this graph. In order to do this, you would want to compare the allelic profile of the new ST to that of all of the nodes in the graph. The full graph had 15,068 nodes, but the pruned version has 6473, so in this particular case, less than half the number of pairwise comparisons would be needed. Note that for very large graphs like this one, pruning can take a fair amount of time (it takes about 45 minutes for the MLST graph we are working with here).  "
   ]
  },
  {
   "cell_type": "code",
   "execution_count": 6,
   "metadata": {},
   "outputs": [
    {
     "name": "stderr",
     "output_type": "stream",
     "text": [
      "Pruned network has 6473 nodes and 11256 edges.\n",
      "\n"
     ]
    }
   ],
   "source": [
    "mlst_network.prune(threads=8)"
   ]
  },
  {
   "attachments": {},
   "cell_type": "markdown",
   "metadata": {},
   "source": [
    "Running the following code will calculate a minimum-spanning tree in the graph and create a couple of visualisations as .png files. These will be saved to a directory called \"mst\" which will be created in the working directory, along with a .graphml file of the mst network itself.  "
   ]
  },
  {
   "cell_type": "code",
   "execution_count": 4,
   "metadata": {},
   "outputs": [
    {
     "name": "stderr",
     "output_type": "stream",
     "text": [
      "Drawing MST\n"
     ]
    }
   ],
   "source": [
    "mlst_network.visualise(viz_type=\"mst\", out_prefix=\"mlst_mst\")"
   ]
  },
  {
   "attachments": {},
   "cell_type": "markdown",
   "metadata": {},
   "source": [
    "A variation of the `visualise` call creates outputs that you can load into cytoscape. This call also produces a file containing the list of edges, and another one containing node data (typically just the node id and the node cluster assignment). Here, you can use the `external_data` argument to merge other metadata that is associated with each node. For example, in the code below, the node data output file contains the node id and cluster, but also the allelic profile associated with that node. The node and edge data files are written through a call to `pp-netlib`'s `write_metadata` method, which can also be called directly if needed. "
   ]
  },
  {
   "cell_type": "code",
   "execution_count": 5,
   "metadata": {},
   "outputs": [],
   "source": [
    "mlst_network.visualise(viz_type=\"cytoscape\", out_prefix=\"mlst_cyto\", external_data=\"./mlst_epi_data.tsv\")"
   ]
  },
  {
   "attachments": {},
   "cell_type": "markdown",
   "metadata": {},
   "source": [
    "For a full description of `pp-netlib` and a complete list of methods and associated arguments, see the main README.  \n",
    "\n",
    "\n",
    "\n",
    "\n",
    "\n",
    "----\n",
    "\n",
    "PubMLST citation: Jolley KA, Bray JE, Maiden MCJ. Open-access bacterial population genomics: BIGSdb software, the PubMLST.org website and their applications. Wellcome Open Res. 2018 Sep 24;3:124. doi: 10.12688/wellcomeopenres.14826.1. PMID: 30345391; PMCID: PMC6192448.  "
   ]
  }
 ],
 "metadata": {
  "kernelspec": {
   "display_name": "Python 3.10.6 ('pp_netlib_dev')",
   "language": "python",
   "name": "python3"
  },
  "language_info": {
   "codemirror_mode": {
    "name": "ipython",
    "version": 3
   },
   "file_extension": ".py",
   "mimetype": "text/x-python",
   "name": "python",
   "nbconvert_exporter": "python",
   "pygments_lexer": "ipython3",
   "version": "3.10.6"
  },
  "orig_nbformat": 4,
  "vscode": {
   "interpreter": {
    "hash": "f057d286e09f9eff3b12faa6cc88a50f2ffa647b81e1b298f85de24733dcb98b"
   }
  }
 },
 "nbformat": 4,
 "nbformat_minor": 2
}
