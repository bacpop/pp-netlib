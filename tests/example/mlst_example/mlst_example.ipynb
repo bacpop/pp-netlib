{
 "cells": [
  {
   "cell_type": "code",
   "execution_count": 1,
   "metadata": {},
   "outputs": [
    {
     "data": {
      "text/html": [
       "<div>\n",
       "<style scoped>\n",
       "    .dataframe tbody tr th:only-of-type {\n",
       "        vertical-align: middle;\n",
       "    }\n",
       "\n",
       "    .dataframe tbody tr th {\n",
       "        vertical-align: top;\n",
       "    }\n",
       "\n",
       "    .dataframe thead th {\n",
       "        text-align: right;\n",
       "    }\n",
       "</style>\n",
       "<table border=\"1\" class=\"dataframe\">\n",
       "  <thead>\n",
       "    <tr style=\"text-align: right;\">\n",
       "      <th></th>\n",
       "      <th>source</th>\n",
       "      <th>target</th>\n",
       "      <th>weights</th>\n",
       "    </tr>\n",
       "  </thead>\n",
       "  <tbody>\n",
       "    <tr>\n",
       "      <th>0</th>\n",
       "      <td>ST_1</td>\n",
       "      <td>ST_2008</td>\n",
       "      <td>6</td>\n",
       "    </tr>\n",
       "    <tr>\n",
       "      <th>1</th>\n",
       "      <td>ST_1</td>\n",
       "      <td>ST_7172</td>\n",
       "      <td>6</td>\n",
       "    </tr>\n",
       "    <tr>\n",
       "      <th>2</th>\n",
       "      <td>ST_1</td>\n",
       "      <td>ST_10475</td>\n",
       "      <td>6</td>\n",
       "    </tr>\n",
       "    <tr>\n",
       "      <th>3</th>\n",
       "      <td>ST_1</td>\n",
       "      <td>ST_14379</td>\n",
       "      <td>6</td>\n",
       "    </tr>\n",
       "    <tr>\n",
       "      <th>4</th>\n",
       "      <td>ST_2</td>\n",
       "      <td>ST_819</td>\n",
       "      <td>6</td>\n",
       "    </tr>\n",
       "  </tbody>\n",
       "</table>\n",
       "</div>"
      ],
      "text/plain": [
       "  source    target  weights\n",
       "0   ST_1   ST_2008        6\n",
       "1   ST_1   ST_7172        6\n",
       "2   ST_1  ST_10475        6\n",
       "3   ST_1  ST_14379        6\n",
       "4   ST_2    ST_819        6"
      ]
     },
     "execution_count": 1,
     "metadata": {},
     "output_type": "execute_result"
    }
   ],
   "source": [
    "from pp_netlib.network import Network\n",
    "import pandas as pd\n",
    "edges_df = pd.read_csv(\"mlst_dist_gt5.csv\", sep = \"\\t\", header = 0)\n",
    "edges_df.head()"
   ]
  },
  {
   "cell_type": "code",
   "execution_count": 2,
   "metadata": {},
   "outputs": [],
   "source": [
    "samples = set(edges_df[\"source\"]).union(set(edges_df[\"target\"]))\n",
    "\n",
    "## instantiate a Network object using graph-tool as the backend\n",
    "mlst_network = Network(ref_list=samples, backend=\"GT\")\n",
    "\n",
    "## construct the network\n",
    "mlst_network.construct(network_data=edges_df, weights=True)"
   ]
  },
  {
   "cell_type": "code",
   "execution_count": 3,
   "metadata": {},
   "outputs": [
    {
     "name": "stderr",
     "output_type": "stream",
     "text": [
      "Network summary:\n",
      "\tComponents\t\t\t\t874\n",
      "\tDensity\t\t\t\t\t0.0006\n",
      "\tTransitivity\t\t\t\t0.8140\n",
      "\tMean betweenness\t\t\t0.7434\n",
      "\tWeighted-mean betweenness\t\t0.5620\n",
      "\tScore\t\t\t\t\t0.8136\n",
      "\tScore (w/ betweenness)\t\t\t0.2088\n",
      "\tScore (w/ weighted-betweenness)\t\t0.3564\n",
      "\n",
      "\n"
     ]
    }
   ],
   "source": [
    "mlst_network.get_summary()"
   ]
  },
  {
   "cell_type": "code",
   "execution_count": null,
   "metadata": {},
   "outputs": [],
   "source": [
    "mlst_network.prune(threads=8)"
   ]
  },
  {
   "cell_type": "code",
   "execution_count": 33,
   "metadata": {},
   "outputs": [
    {
     "name": "stderr",
     "output_type": "stream",
     "text": [
      "Drawing MST\n"
     ]
    }
   ],
   "source": [
    "mlst_network.visualise(viz_type=\"mst\", out_prefix=\"mlst_mst\", external_data=\"./mlst_epi_data.tsv\")"
   ]
  },
  {
   "cell_type": "code",
   "execution_count": 34,
   "metadata": {},
   "outputs": [
    {
     "ename": "KeyError",
     "evalue": "'sample_id'",
     "output_type": "error",
     "traceback": [
      "\u001b[0;31m---------------------------------------------------------------------------\u001b[0m",
      "\u001b[0;31mKeyError\u001b[0m                                  Traceback (most recent call last)",
      "File \u001b[0;32m/opt/miniconda3/envs/pp_netlib_dev/lib/python3.10/site-packages/pandas/core/indexes/base.py:3621\u001b[0m, in \u001b[0;36mIndex.get_loc\u001b[0;34m(self, key, method, tolerance)\u001b[0m\n\u001b[1;32m   3620\u001b[0m \u001b[39mtry\u001b[39;00m:\n\u001b[0;32m-> 3621\u001b[0m     \u001b[39mreturn\u001b[39;00m \u001b[39mself\u001b[39;49m\u001b[39m.\u001b[39;49m_engine\u001b[39m.\u001b[39;49mget_loc(casted_key)\n\u001b[1;32m   3622\u001b[0m \u001b[39mexcept\u001b[39;00m \u001b[39mKeyError\u001b[39;00m \u001b[39mas\u001b[39;00m err:\n",
      "File \u001b[0;32m/opt/miniconda3/envs/pp_netlib_dev/lib/python3.10/site-packages/pandas/_libs/index.pyx:136\u001b[0m, in \u001b[0;36mpandas._libs.index.IndexEngine.get_loc\u001b[0;34m()\u001b[0m\n",
      "File \u001b[0;32m/opt/miniconda3/envs/pp_netlib_dev/lib/python3.10/site-packages/pandas/_libs/index.pyx:163\u001b[0m, in \u001b[0;36mpandas._libs.index.IndexEngine.get_loc\u001b[0;34m()\u001b[0m\n",
      "File \u001b[0;32mpandas/_libs/hashtable_class_helper.pxi:5198\u001b[0m, in \u001b[0;36mpandas._libs.hashtable.PyObjectHashTable.get_item\u001b[0;34m()\u001b[0m\n",
      "File \u001b[0;32mpandas/_libs/hashtable_class_helper.pxi:5206\u001b[0m, in \u001b[0;36mpandas._libs.hashtable.PyObjectHashTable.get_item\u001b[0;34m()\u001b[0m\n",
      "\u001b[0;31mKeyError\u001b[0m: 'sample_id'",
      "\nThe above exception was the direct cause of the following exception:\n",
      "\u001b[0;31mKeyError\u001b[0m                                  Traceback (most recent call last)",
      "Cell \u001b[0;32mIn [34], line 1\u001b[0m\n\u001b[0;32m----> 1\u001b[0m mlst_network\u001b[39m.\u001b[39;49mvisualise(viz_type\u001b[39m=\u001b[39;49m\u001b[39m\"\u001b[39;49m\u001b[39mcytoscape\u001b[39;49m\u001b[39m\"\u001b[39;49m, out_prefix\u001b[39m=\u001b[39;49m\u001b[39m\"\u001b[39;49m\u001b[39mmlst_cyto\u001b[39;49m\u001b[39m\"\u001b[39;49m, external_data\u001b[39m=\u001b[39;49m\u001b[39m\"\u001b[39;49m\u001b[39m./mlst_epi_data.tsv\u001b[39;49m\u001b[39m\"\u001b[39;49m)\n",
      "File \u001b[0;32m/opt/miniconda3/envs/pp_netlib_dev/lib/python3.10/site-packages/poppunk_network_utils-0.0.1-py3.10.egg/pp_netlib/network.py:330\u001b[0m, in \u001b[0;36mNetwork.visualize\u001b[0;34m(self, viz_type, out_prefix, external_data)\u001b[0m\n\u001b[1;32m    327\u001b[0m     clustering \u001b[39m=\u001b[39m get_gt_clusters(\u001b[39mself\u001b[39m\u001b[39m.\u001b[39mgraph)\n\u001b[1;32m    329\u001b[0m     \u001b[39m#write_cytoscape_csv(os.path.join(cytoscape_outdir, out_prefix+\".csv\"), clustering.keys(), clustering, external_data)\u001b[39;00m\n\u001b[0;32m--> 330\u001b[0m     \u001b[39mself\u001b[39;49m\u001b[39m.\u001b[39;49mwrite_metadata(out_prefix\u001b[39m=\u001b[39;49mout_prefix, meta_outdir\u001b[39m=\u001b[39;49mcytoscape_outdir, external_data\u001b[39m=\u001b[39;49mexternal_data)\n\u001b[1;32m    332\u001b[0m \u001b[39mif\u001b[39;00m \u001b[39mself\u001b[39m\u001b[39m.\u001b[39mbackend \u001b[39m==\u001b[39m \u001b[39m\"\u001b[39m\u001b[39mNX\u001b[39m\u001b[39m\"\u001b[39m:\n\u001b[1;32m    333\u001b[0m     \u001b[39mfrom\u001b[39;00m \u001b[39mpp_netlib\u001b[39;00m\u001b[39m.\u001b[39;00m\u001b[39mfunctions\u001b[39;00m \u001b[39mimport\u001b[39;00m nx_save_graph_components, get_nx_clusters\n",
      "File \u001b[0;32m/opt/miniconda3/envs/pp_netlib_dev/lib/python3.10/site-packages/poppunk_network_utils-0.0.1-py3.10.egg/pp_netlib/network.py:540\u001b[0m, in \u001b[0;36mNetwork.write_metadata\u001b[0;34m(self, out_prefix, meta_outdir, external_data)\u001b[0m\n\u001b[1;32m    538\u001b[0m \u001b[39mif\u001b[39;00m \u001b[39misinstance\u001b[39m(external_data, \u001b[39mstr\u001b[39m):\n\u001b[1;32m    539\u001b[0m     external_data_df \u001b[39m=\u001b[39m pd\u001b[39m.\u001b[39mread_csv(external_data, header\u001b[39m=\u001b[39m\u001b[39m0\u001b[39m)\n\u001b[0;32m--> 540\u001b[0m     external_data_df[\u001b[39m\"\u001b[39m\u001b[39msample_id\u001b[39m\u001b[39m\"\u001b[39m] \u001b[39m=\u001b[39m [sample\u001b[39m.\u001b[39mreplace(\u001b[39m'\u001b[39m\u001b[39m.\u001b[39m\u001b[39m'\u001b[39m,\u001b[39m'\u001b[39m\u001b[39m_\u001b[39m\u001b[39m'\u001b[39m)\u001b[39m.\u001b[39mreplace(\u001b[39m'\u001b[39m\u001b[39m:\u001b[39m\u001b[39m'\u001b[39m,\u001b[39m'\u001b[39m\u001b[39m'\u001b[39m)\u001b[39m.\u001b[39mreplace(\u001b[39m'\u001b[39m\u001b[39m(\u001b[39m\u001b[39m'\u001b[39m,\u001b[39m'\u001b[39m\u001b[39m_\u001b[39m\u001b[39m'\u001b[39m)\u001b[39m.\u001b[39mreplace(\u001b[39m'\u001b[39m\u001b[39m)\u001b[39m\u001b[39m'\u001b[39m,\u001b[39m'\u001b[39m\u001b[39m_\u001b[39m\u001b[39m'\u001b[39m) \u001b[39mfor\u001b[39;00m sample \u001b[39min\u001b[39;00m external_data_df[\u001b[39m\"\u001b[39;49m\u001b[39msample_id\u001b[39;49m\u001b[39m\"\u001b[39;49m]]\n\u001b[1;32m    541\u001b[0m     sample_metadata \u001b[39m=\u001b[39m pd\u001b[39m.\u001b[39mmerge(node_data_df, external_data_df, on\u001b[39m=\u001b[39m\u001b[39m\"\u001b[39m\u001b[39msample_id\u001b[39m\u001b[39m\"\u001b[39m)\n\u001b[1;32m    542\u001b[0m \u001b[39melif\u001b[39;00m \u001b[39misinstance\u001b[39m(external_data, pd\u001b[39m.\u001b[39mDataFrame):\n",
      "File \u001b[0;32m/opt/miniconda3/envs/pp_netlib_dev/lib/python3.10/site-packages/pandas/core/frame.py:3505\u001b[0m, in \u001b[0;36mDataFrame.__getitem__\u001b[0;34m(self, key)\u001b[0m\n\u001b[1;32m   3503\u001b[0m \u001b[39mif\u001b[39;00m \u001b[39mself\u001b[39m\u001b[39m.\u001b[39mcolumns\u001b[39m.\u001b[39mnlevels \u001b[39m>\u001b[39m \u001b[39m1\u001b[39m:\n\u001b[1;32m   3504\u001b[0m     \u001b[39mreturn\u001b[39;00m \u001b[39mself\u001b[39m\u001b[39m.\u001b[39m_getitem_multilevel(key)\n\u001b[0;32m-> 3505\u001b[0m indexer \u001b[39m=\u001b[39m \u001b[39mself\u001b[39;49m\u001b[39m.\u001b[39;49mcolumns\u001b[39m.\u001b[39;49mget_loc(key)\n\u001b[1;32m   3506\u001b[0m \u001b[39mif\u001b[39;00m is_integer(indexer):\n\u001b[1;32m   3507\u001b[0m     indexer \u001b[39m=\u001b[39m [indexer]\n",
      "File \u001b[0;32m/opt/miniconda3/envs/pp_netlib_dev/lib/python3.10/site-packages/pandas/core/indexes/base.py:3623\u001b[0m, in \u001b[0;36mIndex.get_loc\u001b[0;34m(self, key, method, tolerance)\u001b[0m\n\u001b[1;32m   3621\u001b[0m     \u001b[39mreturn\u001b[39;00m \u001b[39mself\u001b[39m\u001b[39m.\u001b[39m_engine\u001b[39m.\u001b[39mget_loc(casted_key)\n\u001b[1;32m   3622\u001b[0m \u001b[39mexcept\u001b[39;00m \u001b[39mKeyError\u001b[39;00m \u001b[39mas\u001b[39;00m err:\n\u001b[0;32m-> 3623\u001b[0m     \u001b[39mraise\u001b[39;00m \u001b[39mKeyError\u001b[39;00m(key) \u001b[39mfrom\u001b[39;00m \u001b[39merr\u001b[39;00m\n\u001b[1;32m   3624\u001b[0m \u001b[39mexcept\u001b[39;00m \u001b[39mTypeError\u001b[39;00m:\n\u001b[1;32m   3625\u001b[0m     \u001b[39m# If we have a listlike key, _check_indexing_error will raise\u001b[39;00m\n\u001b[1;32m   3626\u001b[0m     \u001b[39m#  InvalidIndexError. Otherwise we fall through and re-raise\u001b[39;00m\n\u001b[1;32m   3627\u001b[0m     \u001b[39m#  the TypeError.\u001b[39;00m\n\u001b[1;32m   3628\u001b[0m     \u001b[39mself\u001b[39m\u001b[39m.\u001b[39m_check_indexing_error(key)\n",
      "\u001b[0;31mKeyError\u001b[0m: 'sample_id'"
     ]
    }
   ],
   "source": [
    "mlst_network.visualise(viz_type=\"cytoscape\", out_prefix=\"mlst_cyto\", external_data=\"./mlst_epi_data.tsv\")"
   ]
  },
  {
   "cell_type": "code",
   "execution_count": null,
   "metadata": {},
   "outputs": [],
   "source": []
  }
 ],
 "metadata": {
  "kernelspec": {
   "display_name": "Python 3.10.6 ('pp_netlib_dev')",
   "language": "python",
   "name": "python3"
  },
  "language_info": {
   "codemirror_mode": {
    "name": "ipython",
    "version": 3
   },
   "file_extension": ".py",
   "mimetype": "text/x-python",
   "name": "python",
   "nbconvert_exporter": "python",
   "pygments_lexer": "ipython3",
   "version": "3.10.6"
  },
  "orig_nbformat": 4,
  "vscode": {
   "interpreter": {
    "hash": "f057d286e09f9eff3b12faa6cc88a50f2ffa647b81e1b298f85de24733dcb98b"
   }
  }
 },
 "nbformat": 4,
 "nbformat_minor": 2
}
