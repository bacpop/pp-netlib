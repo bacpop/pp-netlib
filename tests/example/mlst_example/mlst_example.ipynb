{
 "cells": [
  {
   "cell_type": "code",
   "execution_count": 1,
   "metadata": {},
   "outputs": [
    {
     "data": {
      "text/html": [
       "<div>\n",
       "<style scoped>\n",
       "    .dataframe tbody tr th:only-of-type {\n",
       "        vertical-align: middle;\n",
       "    }\n",
       "\n",
       "    .dataframe tbody tr th {\n",
       "        vertical-align: top;\n",
       "    }\n",
       "\n",
       "    .dataframe thead th {\n",
       "        text-align: right;\n",
       "    }\n",
       "</style>\n",
       "<table border=\"1\" class=\"dataframe\">\n",
       "  <thead>\n",
       "    <tr style=\"text-align: right;\">\n",
       "      <th></th>\n",
       "      <th>source</th>\n",
       "      <th>target</th>\n",
       "      <th>weights</th>\n",
       "    </tr>\n",
       "  </thead>\n",
       "  <tbody>\n",
       "    <tr>\n",
       "      <th>0</th>\n",
       "      <td>ST_1</td>\n",
       "      <td>ST_2008</td>\n",
       "      <td>6</td>\n",
       "    </tr>\n",
       "    <tr>\n",
       "      <th>1</th>\n",
       "      <td>ST_1</td>\n",
       "      <td>ST_7172</td>\n",
       "      <td>6</td>\n",
       "    </tr>\n",
       "    <tr>\n",
       "      <th>2</th>\n",
       "      <td>ST_1</td>\n",
       "      <td>ST_10475</td>\n",
       "      <td>6</td>\n",
       "    </tr>\n",
       "    <tr>\n",
       "      <th>3</th>\n",
       "      <td>ST_1</td>\n",
       "      <td>ST_14379</td>\n",
       "      <td>6</td>\n",
       "    </tr>\n",
       "    <tr>\n",
       "      <th>4</th>\n",
       "      <td>ST_2</td>\n",
       "      <td>ST_819</td>\n",
       "      <td>6</td>\n",
       "    </tr>\n",
       "  </tbody>\n",
       "</table>\n",
       "</div>"
      ],
      "text/plain": [
       "  source    target  weights\n",
       "0   ST_1   ST_2008        6\n",
       "1   ST_1   ST_7172        6\n",
       "2   ST_1  ST_10475        6\n",
       "3   ST_1  ST_14379        6\n",
       "4   ST_2    ST_819        6"
      ]
     },
     "execution_count": 1,
     "metadata": {},
     "output_type": "execute_result"
    }
   ],
   "source": [
    "from pp_netlib.network import Network\n",
    "import pandas as pd\n",
    "edges_df = pd.read_csv(\"mlst_dist_gt5.csv\", sep = \"\\t\", header = 0)\n",
    "edges_df.head()"
   ]
  },
  {
   "cell_type": "code",
   "execution_count": 2,
   "metadata": {},
   "outputs": [],
   "source": [
    "samples = set(edges_df[\"source\"]).union(set(edges_df[\"target\"]))\n",
    "\n",
    "## instantiate a Network object using graph-tool as the backend\n",
    "mlst_network = Network(ref_list=samples, backend=\"GT\")\n",
    "\n",
    "## construct the network\n",
    "mlst_network.construct(network_data=edges_df, weights=True)"
   ]
  },
  {
   "cell_type": "code",
   "execution_count": 3,
   "metadata": {},
   "outputs": [
    {
     "name": "stderr",
     "output_type": "stream",
     "text": [
      "Network summary:\n",
      "\tComponents\t\t\t\t874\n",
      "\tDensity\t\t\t\t\t0.0006\n",
      "\tTransitivity\t\t\t\t0.8140\n",
      "\tMean betweenness\t\t\t0.7434\n",
      "\tWeighted-mean betweenness\t\t0.5620\n",
      "\tScore\t\t\t\t\t0.8136\n",
      "\tScore (w/ betweenness)\t\t\t0.2088\n",
      "\tScore (w/ weighted-betweenness)\t\t0.3564\n",
      "\n",
      "\n"
     ]
    }
   ],
   "source": [
    "mlst_network.get_summary()"
   ]
  },
  {
   "cell_type": "code",
   "execution_count": null,
   "metadata": {},
   "outputs": [],
   "source": [
    "mlst_network.prune(threads=8)"
   ]
  },
  {
   "cell_type": "code",
   "execution_count": 33,
   "metadata": {},
   "outputs": [
    {
     "name": "stderr",
     "output_type": "stream",
     "text": [
      "Drawing MST\n"
     ]
    }
   ],
   "source": [
    "mlst_network.visualise(viz_type=\"mst\", out_prefix=\"mlst_mst\", external_data=\"./mlst_epi_data.tsv\")"
   ]
  },
  {
   "cell_type": "code",
   "execution_count": 34,
   "metadata": {},
   "outputs": [],
   "source": [
    "mlst_network.visualise(viz_type=\"cytoscape\", out_prefix=\"mlst_cyto\", external_data=\"./mlst_epi_data.tsv\")"
   ]
  },
  {
   "cell_type": "code",
   "execution_count": null,
   "metadata": {},
   "outputs": [],
   "source": []
  }
 ],
 "metadata": {
  "kernelspec": {
   "display_name": "Python 3.10.6 ('pp_netlib_dev')",
   "language": "python",
   "name": "python3"
  },
  "language_info": {
   "codemirror_mode": {
    "name": "ipython",
    "version": 3
   },
   "file_extension": ".py",
   "mimetype": "text/x-python",
   "name": "python",
   "nbconvert_exporter": "python",
   "pygments_lexer": "ipython3",
   "version": "3.10.6"
  },
  "orig_nbformat": 4,
  "vscode": {
   "interpreter": {
    "hash": "f057d286e09f9eff3b12faa6cc88a50f2ffa647b81e1b298f85de24733dcb98b"
   }
  }
 },
 "nbformat": 4,
 "nbformat_minor": 2
}
