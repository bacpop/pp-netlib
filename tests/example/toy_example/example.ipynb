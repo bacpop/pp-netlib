{
 "cells": [
  {
   "cell_type": "code",
   "execution_count": null,
   "metadata": {},
   "outputs": [],
   "source": [
    "import pandas as pd\n",
    "from pp_netlib.network import Network"
   ]
  },
  {
   "cell_type": "code",
   "execution_count": null,
   "metadata": {},
   "outputs": [],
   "source": [
    "vertex_labels = ['ab', 'ac', 'ad', 'ae', 'af', 'ag', 'ba', 'bc', 'bd', 'be', 'bf', 'bg', 'ca', 'cb', 'cd', 'ce', 'cf', 'cg', 'da', 'db', 'dc', 'de', 'df', 'dg', 'ea', 'eb', 'ec', 'ed', 'ef', 'eg', 'fa', 'fb', 'fc', 'fd', 'fe', 'fg', 'ga', 'gb', 'gc', 'gd', 'ge', 'gf', 'hi', 'hj', 'hk', 'hl', 'hm', 'hn', 'ho', 'hp', 'ih', 'ij', 'ik', 'il', 'im', 'in', 'io', 'ip', 'jh', 'ji', 'jk', 'jl', 'jm', 'jn', 'jo', 'jp', 'kh', 'ki', 'kj', 'kl', 'km', 'kn', 'ko', 'kp', 'lh', 'li', 'lj', 'lk', 'lm', 'ln', 'lo', 'lp', 'mh', 'mi', 'mj', 'mk', 'ml', 'mn', 'mo', 'mp', 'nh', 'ni', 'nj', 'nk', 'nl', 'nm', 'no', 'np', 'oh', 'oi', 'oj', 'ok', 'ol', 'om', 'on', 'op', 'ph', 'pi', 'pj', 'pk', 'pl', 'pm', 'pn', 'po', 'qr', 'qs', 'qt', 'rq', 'rs', 'rt', 'sq', 'sr', 'st', 'tq', 'tr', 'ts', 'uv', 'uw', 'ux', 'uy', 'uz', 'vu', 'vw', 'vx', 'vy', 'vz', 'wu', 'wv', 'wx', 'wy', 'wz', 'xu', 'xv', 'xw', 'xy', 'xz', 'yu', 'yv', 'yw', 'yx', 'yz', 'zu', 'zv', 'zw', 'zx', 'zy']\n",
    "network_data = pd.read_csv(\"alphabet_soup_edges.tsv\", sep = \"\\t\", header = 0)"
   ]
  },
  {
   "cell_type": "code",
   "execution_count": null,
   "metadata": {},
   "outputs": [],
   "source": [
    "## initialise a network instance and construct\n",
    "graph = Network(ref_list=vertex_labels, outdir=\".\", backend=\"NX\")\n",
    "graph.construct(network_data=network_data, weights=True)"
   ]
  },
  {
   "cell_type": "code",
   "execution_count": null,
   "metadata": {},
   "outputs": [],
   "source": [
    "## view some graph attributes\n",
    "print(graph.graph)\n",
    "print(graph.backend)\n",
    "print(graph.outdir)\n",
    "print(graph.ref_graph) ## this should evaluate to None, pruning the graph in the next stage\n"
   ]
  },
  {
   "cell_type": "code",
   "execution_count": null,
   "metadata": {},
   "outputs": [],
   "source": [
    "graph.prune(threads=4)\n",
    "print(graph.ref_graph)"
   ]
  },
  {
   "cell_type": "code",
   "execution_count": null,
   "metadata": {},
   "outputs": [],
   "source": [
    "##print some summaries\n",
    "graph.get_summary()\n",
    "# graph.get_summary(\"alphabet_soup.summary.txt\") ## using this line would create \"alphabet_soup.summary.txt\" in the output directory\n",
    "# graph.get_summary(print_to_std=False, summary_file_prefix=\"alphabet_soup.summary.txt\") ## using this line would create \"alphabet_soup.summary.txt\" in the output directory but NOT print to stdout"
   ]
  },
  {
   "cell_type": "code",
   "execution_count": null,
   "metadata": {},
   "outputs": [],
   "source": [
    "# graph.visualise(viz_type=\"mst\", out_prefix=\"test_alphabet_soup\") ## produces minimum-spanning tree, cluster plot and stress plot in outdir/mst\n",
    "# graph.visualise(viz_type=\"cytoscape\", out_prefix=\"test_alphabet_soup\") ## saves full graph, each component of full graph, csv of clustering data and mst graph (if present)"
   ]
  },
  {
   "cell_type": "code",
   "execution_count": null,
   "metadata": {},
   "outputs": [],
   "source": [
    "print(graph.vertex_map[\"rs\"]) ## printing this here and at the end to check that if an existing vertex is provided in the additional data, its node index is preserved\n",
    "if graph.backend == \"NX\":\n",
    "    for v in graph.graph.nodes():\n",
    "        print(v, graph.graph.nodes()[v][\"id\"], graph.graph.nodes()[v][\"comp_membership\"])\n",
    "elif graph.backend == \"GT\":\n",
    "    for v in graph.graph.vertices():\n",
    "        print(v, graph.graph.vp.id[v], graph.graph.vp.comp_membership[v])\n",
    "\n",
    "additional_data = pd.DataFrame()\n",
    "additional_data[\"source\"] = [\"ab\", \"abrs\"]\n",
    "additional_data[\"target\"] = [\"abrs\", \"rs\"]\n",
    "additional_data[\"weight\"] = [0.002, 0.003]\n",
    "graph.add_to_network(additional_data, [\"ab\", \"abrs\", \"rs\"])\n",
    "\n",
    "print(graph.vertex_map[\"rs\"])\n"
   ]
  },
  {
   "cell_type": "code",
   "execution_count": null,
   "metadata": {},
   "outputs": [],
   "source": [
    "## look at the updated component assignments\n",
    "if graph.backend == \"NX\":\n",
    "    for v in graph.graph.nodes():\n",
    "        print(v, graph.graph.nodes()[v][\"id\"], graph.graph.nodes()[v][\"comp_membership\"])\n",
    "elif graph.backend == \"GT\":\n",
    "    for v in graph.graph.vertices():\n",
    "        print(v, graph.graph.vp.id[v], graph.graph.vp.comp_membership[v])\n"
   ]
  },
  {
   "cell_type": "code",
   "execution_count": null,
   "metadata": {},
   "outputs": [],
   "source": []
  }
 ],
 "metadata": {
  "kernelspec": {
   "display_name": "Python 3.8.2 ('poppunk_intel')",
   "language": "python",
   "name": "python3"
  },
  "language_info": {
   "codemirror_mode": {
    "name": "ipython",
    "version": 3
   },
   "file_extension": ".py",
   "mimetype": "text/x-python",
   "name": "python",
   "nbconvert_exporter": "python",
   "pygments_lexer": "ipython3",
   "version": "3.8.2"
  },
  "orig_nbformat": 4,
  "vscode": {
   "interpreter": {
    "hash": "cd28f33ff27b3818a5bb292a1550c8c09aeaa24e9abac2f929c93572bb2ab100"
   }
  }
 },
 "nbformat": 4,
 "nbformat_minor": 2
}
