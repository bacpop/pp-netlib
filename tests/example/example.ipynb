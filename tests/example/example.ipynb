{
 "cells": [
  {
   "cell_type": "code",
   "execution_count": 19,
   "metadata": {},
   "outputs": [],
   "source": [
    "import pandas as pd\n",
    "from pp_netlib.network import Network"
   ]
  },
  {
   "cell_type": "code",
   "execution_count": 20,
   "metadata": {},
   "outputs": [],
   "source": [
    "vertex_labels = ['ab', 'ac', 'ad', 'ae', 'af', 'ag', 'ba', 'bc', 'bd', 'be', 'bf', 'bg', 'ca', 'cb', 'cd', 'ce', 'cf', 'cg', 'da', 'db', 'dc', 'de', 'df', 'dg', 'ea', 'eb', 'ec', 'ed', 'ef', 'eg', 'fa', 'fb', 'fc', 'fd', 'fe', 'fg', 'ga', 'gb', 'gc', 'gd', 'ge', 'gf', 'hi', 'hj', 'hk', 'hl', 'hm', 'hn', 'ho', 'hp', 'ih', 'ij', 'ik', 'il', 'im', 'in', 'io', 'ip', 'jh', 'ji', 'jk', 'jl', 'jm', 'jn', 'jo', 'jp', 'kh', 'ki', 'kj', 'kl', 'km', 'kn', 'ko', 'kp', 'lh', 'li', 'lj', 'lk', 'lm', 'ln', 'lo', 'lp', 'mh', 'mi', 'mj', 'mk', 'ml', 'mn', 'mo', 'mp', 'nh', 'ni', 'nj', 'nk', 'nl', 'nm', 'no', 'np', 'oh', 'oi', 'oj', 'ok', 'ol', 'om', 'on', 'op', 'ph', 'pi', 'pj', 'pk', 'pl', 'pm', 'pn', 'po', 'qr', 'qs', 'qt', 'rq', 'rs', 'rt', 'sq', 'sr', 'st', 'tq', 'tr', 'ts', 'uv', 'uw', 'ux', 'uy', 'uz', 'vu', 'vw', 'vx', 'vy', 'vz', 'wu', 'wv', 'wx', 'wy', 'wz', 'xu', 'xv', 'xw', 'xy', 'xz', 'yu', 'yv', 'yw', 'yx', 'yz', 'zu', 'zv', 'zw', 'zx', 'zy']\n",
    "network_data = pd.read_csv(\"alphabet_soup_edges.tsv\", sep = \"\\t\", header = 0)"
   ]
  },
  {
   "cell_type": "code",
   "execution_count": 21,
   "metadata": {},
   "outputs": [],
   "source": [
    "## initialise a network instance and construct\n",
    "graph = Network(ref_list=vertex_labels, outdir=\".\", backend=\"GT\")\n",
    "graph.construct(network_data=network_data, weights=True)"
   ]
  },
  {
   "cell_type": "code",
   "execution_count": 22,
   "metadata": {},
   "outputs": [
    {
     "name": "stdout",
     "output_type": "stream",
     "text": [
      "<Graph object, undirected, with 156 vertices and 310 edges, 2 internal vertex properties, 1 internal edge property, at 0x7fb0297c5430>\n",
      "['ab', 'ac', 'ad', 'ae', 'af']\n",
      "GT\n",
      ".\n",
      "None\n"
     ]
    }
   ],
   "source": [
    "## view some graph attributes\n",
    "print(graph.graph)\n",
    "print(graph.vertex_labels[:5])\n",
    "print(graph.backend)\n",
    "print(graph.outdir)\n",
    "print(graph.ref_graph) ## this should evaluate to None, pruning the graph in the next stage"
   ]
  },
  {
   "cell_type": "code",
   "execution_count": 23,
   "metadata": {},
   "outputs": [
    {
     "name": "stderr",
     "output_type": "stream",
     "text": [
      "\n",
      "(ipykernel_launcher.py:74120): Gtk-WARNING **: 14:46:10.576: Locale not supported by C library.\n",
      "\tUsing the fallback 'C' locale.\n",
      "\n",
      "(ipykernel_launcher.py:74123): Gtk-WARNING **: 14:46:10.576: Locale not supported by C library.\n",
      "\tUsing the fallback 'C' locale.\n",
      "\n",
      "(ipykernel_launcher.py:74121): Gtk-WARNING **: 14:46:10.577: Locale not supported by C library.\n",
      "\tUsing the fallback 'C' locale.\n",
      "\n",
      "(ipykernel_launcher.py:74122): Gtk-WARNING **: 14:46:10.640: Locale not supported by C library.\n",
      "\tUsing the fallback 'C' locale.\n"
     ]
    },
    {
     "name": "stdout",
     "output_type": "stream",
     "text": [
      "<Graph object, undirected, with 127 vertices and 231 edges, 2 internal vertex properties, 1 internal edge property, at 0x7fafe8bb29a0>\n"
     ]
    },
    {
     "name": "stderr",
     "output_type": "stream",
     "text": [
      "Pruned network has 127 nodes and 231 edges.\n",
      "\n"
     ]
    }
   ],
   "source": [
    "graph.prune(threads=4)\n",
    "print(graph.ref_graph)"
   ]
  },
  {
   "cell_type": "code",
   "execution_count": 24,
   "metadata": {},
   "outputs": [
    {
     "name": "stderr",
     "output_type": "stream",
     "text": [
      "Network summary:\n",
      "\tComponents\t\t\t\t4\n",
      "\tDensity\t\t\t\t\t0.0256\n",
      "\tTransitivity\t\t\t\t0.1686\n",
      "\tMean betweenness\t\t\t0.1927\n",
      "\tWeighted-mean betweenness\t\t0.2112\n",
      "\tScore\t\t\t\t\t0.1643\n",
      "\tScore (w/ betweenness)\t\t\t0.1326\n",
      "\tScore (w/ weighted-betweenness)\t\t0.1296\n",
      "\n",
      "\n"
     ]
    }
   ],
   "source": [
    "##print some summaries\n",
    "graph.get_summary()\n",
    "# graph.get_summary(\"alphabet_soup.summary.txt\") ## using this line would create \"alphabet_soup.summary.txt\" in the output directory\n",
    "# graph.get_summary(print_to_std=False, summary_file_prefix=\"alphabet_soup.summary.txt\") ## using this line would create \"alphabet_soup.summary.txt\" in the output directory but NOT print to stdout"
   ]
  },
  {
   "cell_type": "code",
   "execution_count": 27,
   "metadata": {},
   "outputs": [],
   "source": [
    "# graph.visualise(viz_type=\"mst\", out_prefix=\"test_alphabet_soup\") ## produces minimum-spanning tree, cluster plot and stress plot in outdir/mst\n",
    "# graph.visualise(viz_type=\"cytoscape\", out_prefix=\"test_alphabet_soup\") ## saves full graph, each component of full graph, csv of clustering data and mst graph (if present)"
   ]
  },
  {
   "cell_type": "code",
   "execution_count": 31,
   "metadata": {},
   "outputs": [
    {
     "ename": "RuntimeError",
     "evalue": "Invalid type for edge list; must be two-dimensional with a scalar type",
     "output_type": "error",
     "traceback": [
      "\u001b[0;31m---------------------------------------------------------------------------\u001b[0m",
      "\u001b[0;31mRuntimeError\u001b[0m                              Traceback (most recent call last)",
      "Cell \u001b[0;32mIn [31], line 4\u001b[0m\n\u001b[1;32m      2\u001b[0m new_data_df \u001b[39m=\u001b[39m pd\u001b[39m.\u001b[39mDataFrame(new_data)\n\u001b[1;32m      3\u001b[0m new_vertex_labels \u001b[39m=\u001b[39m [\u001b[39m\"\u001b[39m\u001b[39mfg\u001b[39m\u001b[39m\"\u001b[39m, \u001b[39m\"\u001b[39m\u001b[39mab\u001b[39m\u001b[39m\"\u001b[39m, \u001b[39m\"\u001b[39m\u001b[39mhi\u001b[39m\u001b[39m\"\u001b[39m, \u001b[39m\"\u001b[39m\u001b[39mabc\u001b[39m\u001b[39m\"\u001b[39m]\n\u001b[0;32m----> 4\u001b[0m graph\u001b[39m.\u001b[39;49madd_to_network(new_data_df\u001b[39m=\u001b[39;49mnew_data_df, new_vertex_labels\u001b[39m=\u001b[39;49mnew_vertex_labels)\n",
      "File \u001b[0;32m~/miniconda3/envs/poppunk_intel/lib/python3.8/site-packages/poppunk_network_utils-0.0.1-py3.8.egg/pp_netlib/network.py:416\u001b[0m, in \u001b[0;36madd_to_network\u001b[0;34m(self, new_data_df, new_vertex_labels)\u001b[0m\n",
      "File \u001b[0;32m~/miniconda3/envs/poppunk_intel/lib/python3.8/site-packages/graph_tool/__init__.py:2500\u001b[0m, in \u001b[0;36mGraph.add_edge_list\u001b[0;34m(self, edge_list, hashed, hash_type, eprops)\u001b[0m\n\u001b[1;32m   2498\u001b[0m \u001b[39mif\u001b[39;00m \u001b[39mnot\u001b[39;00m hashed:\n\u001b[1;32m   2499\u001b[0m     \u001b[39mif\u001b[39;00m \u001b[39misinstance\u001b[39m(edge_list, numpy\u001b[39m.\u001b[39mndarray):\n\u001b[0;32m-> 2500\u001b[0m         libcore\u001b[39m.\u001b[39;49madd_edge_list(\u001b[39mself\u001b[39;49m\u001b[39m.\u001b[39;49m__graph, edge_list, eprops)\n\u001b[1;32m   2501\u001b[0m     \u001b[39melse\u001b[39;00m:\n\u001b[1;32m   2502\u001b[0m         libcore\u001b[39m.\u001b[39madd_edge_list_iter(\u001b[39mself\u001b[39m\u001b[39m.\u001b[39m__graph, edge_list, eprops)\n",
      "\u001b[0;31mRuntimeError\u001b[0m: Invalid type for edge list; must be two-dimensional with a scalar type"
     ]
    }
   ],
   "source": [
    "new_data = {\"source\": [\"fg\", \"ab\"], \"target\": [\"hi\", \"abc\"], \"weight\": [0.02, 0.1]}\n",
    "new_data_df = pd.DataFrame(new_data)\n",
    "new_vertex_labels = [\"fg\", \"ab\", \"hi\", \"abc\"]\n",
    "graph.add_to_network(new_data_df=new_data_df, new_vertex_labels=new_vertex_labels)"
   ]
  }
 ],
 "metadata": {
  "kernelspec": {
   "display_name": "Python 3.8.2 ('poppunk_intel')",
   "language": "python",
   "name": "python3"
  },
  "language_info": {
   "codemirror_mode": {
    "name": "ipython",
    "version": 3
   },
   "file_extension": ".py",
   "mimetype": "text/x-python",
   "name": "python",
   "nbconvert_exporter": "python",
   "pygments_lexer": "ipython3",
   "version": "3.8.2"
  },
  "orig_nbformat": 4,
  "vscode": {
   "interpreter": {
    "hash": "cd28f33ff27b3818a5bb292a1550c8c09aeaa24e9abac2f929c93572bb2ab100"
   }
  }
 },
 "nbformat": 4,
 "nbformat_minor": 2
}
