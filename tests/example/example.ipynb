{
 "cells": [
  {
   "cell_type": "code",
   "execution_count": 3,
   "metadata": {},
   "outputs": [],
   "source": [
    "import pandas as pd\n",
    "from pp_netlib.network import Network"
   ]
  },
  {
   "cell_type": "code",
   "execution_count": 4,
   "metadata": {},
   "outputs": [],
   "source": [
    "vertex_labels = ['ab', 'ac', 'ad', 'ae', 'af', 'ag', 'ba', 'bc', 'bd', 'be', 'bf', 'bg', 'ca', 'cb', 'cd', 'ce', 'cf', 'cg', 'da', 'db', 'dc', 'de', 'df', 'dg', 'ea', 'eb', 'ec', 'ed', 'ef', 'eg', 'fa', 'fb', 'fc', 'fd', 'fe', 'fg', 'ga', 'gb', 'gc', 'gd', 'ge', 'gf', 'hi', 'hj', 'hk', 'hl', 'hm', 'hn', 'ho', 'hp', 'ih', 'ij', 'ik', 'il', 'im', 'in', 'io', 'ip', 'jh', 'ji', 'jk', 'jl', 'jm', 'jn', 'jo', 'jp', 'kh', 'ki', 'kj', 'kl', 'km', 'kn', 'ko', 'kp', 'lh', 'li', 'lj', 'lk', 'lm', 'ln', 'lo', 'lp', 'mh', 'mi', 'mj', 'mk', 'ml', 'mn', 'mo', 'mp', 'nh', 'ni', 'nj', 'nk', 'nl', 'nm', 'no', 'np', 'oh', 'oi', 'oj', 'ok', 'ol', 'om', 'on', 'op', 'ph', 'pi', 'pj', 'pk', 'pl', 'pm', 'pn', 'po', 'qr', 'qs', 'qt', 'rq', 'rs', 'rt', 'sq', 'sr', 'st', 'tq', 'tr', 'ts', 'uv', 'uw', 'ux', 'uy', 'uz', 'vu', 'vw', 'vx', 'vy', 'vz', 'wu', 'wv', 'wx', 'wy', 'wz', 'xu', 'xv', 'xw', 'xy', 'xz', 'yu', 'yv', 'yw', 'yx', 'yz', 'zu', 'zv', 'zw', 'zx', 'zy']\n",
    "network_data = pd.read_csv(\"alphabet_soup_edges.tsv\", sep = \"\\t\", header = 0)"
   ]
  },
  {
   "cell_type": "code",
   "execution_count": 7,
   "metadata": {},
   "outputs": [],
   "source": [
    "## initialise a network instance and construct\n",
    "graph = Network(ref_list=vertex_labels, outdir=\".\", backend=\"NX\")\n",
    "graph.construct(network_data=network_data, weights=True)"
   ]
  },
  {
   "cell_type": "code",
   "execution_count": 9,
   "metadata": {},
   "outputs": [
    {
     "name": "stdout",
     "output_type": "stream",
     "text": [
      "Graph with 156 nodes and 310 edges\n",
      "NX\n",
      ".\n",
      "None\n"
     ]
    }
   ],
   "source": [
    "## view some graph attributes\n",
    "print(graph.graph)\n",
    "print(graph.backend)\n",
    "print(graph.outdir)\n",
    "print(graph.ref_graph) ## this should evaluate to None, pruning the graph in the next stage\n",
    "\n"
   ]
  },
  {
   "cell_type": "code",
   "execution_count": 19,
   "metadata": {},
   "outputs": [
    {
     "name": "stdout",
     "output_type": "stream",
     "text": [
      "Graph with 129 nodes and 215 edges\n"
     ]
    },
    {
     "name": "stderr",
     "output_type": "stream",
     "text": [
      "Pruned network has 129 nodes and 215 edges.\n",
      "\n"
     ]
    }
   ],
   "source": [
    "graph.prune(threads=4)\n",
    "print(graph.ref_graph)"
   ]
  },
  {
   "cell_type": "code",
   "execution_count": 20,
   "metadata": {},
   "outputs": [
    {
     "name": "stderr",
     "output_type": "stream",
     "text": [
      "Network summary:\n",
      "\tComponents\t\t\t\t4\n",
      "\tDensity\t\t\t\t\t0.0256\n",
      "\tTransitivity\t\t\t\t0.1686\n",
      "\tMean betweenness\t\t\t0.1927\n",
      "\tWeighted-mean betweenness\t\t0.2112\n",
      "\tScore\t\t\t\t\t0.1643\n",
      "\tScore (w/ betweenness)\t\t\t0.1326\n",
      "\tScore (w/ weighted-betweenness)\t\t0.1296\n",
      "\n",
      "\n"
     ]
    }
   ],
   "source": [
    "##print some summaries\n",
    "graph.get_summary()\n",
    "# graph.get_summary(\"alphabet_soup.summary.txt\") ## using this line would create \"alphabet_soup.summary.txt\" in the output directory\n",
    "# graph.get_summary(print_to_std=False, summary_file_prefix=\"alphabet_soup.summary.txt\") ## using this line would create \"alphabet_soup.summary.txt\" in the output directory but NOT print to stdout"
   ]
  },
  {
   "cell_type": "code",
   "execution_count": 27,
   "metadata": {},
   "outputs": [],
   "source": [
    "# graph.visualise(viz_type=\"mst\", out_prefix=\"test_alphabet_soup\") ## produces minimum-spanning tree, cluster plot and stress plot in outdir/mst\n",
    "# graph.visualise(viz_type=\"cytoscape\", out_prefix=\"test_alphabet_soup\") ## saves full graph, each component of full graph, csv of clustering data and mst graph (if present)"
   ]
  },
  {
   "cell_type": "code",
   "execution_count": 2,
   "metadata": {},
   "outputs": [
    {
     "name": "stdout",
     "output_type": "stream",
     "text": [
      "[(0, 1, 0.1), (1, 2, 0.1), (2, 3, 0.5), (3, 4, 0.7), (4, 0, 0.2)]\n"
     ]
    },
    {
     "name": "stderr",
     "output_type": "stream",
     "text": [
      "\n",
      "(ipykernel_launcher.py:81607): Gtk-WARNING **: 14:49:39.752: Locale not supported by C library.\n",
      "\tUsing the fallback 'C' locale.\n",
      "Graph edges are not weighted.\n"
     ]
    }
   ],
   "source": [
    "from scipy.sparse import coo_matrix\n",
    "import numpy as np\n",
    "# setting up test coo_matrix\n",
    "sample_row = np.array([0, 1, 2, 3, 4])\n",
    "sample_column = np.array([1, 2, 3, 4, 0])\n",
    "sample_weights = np.array([0.1, 0.1, 0.5, 0.7, 0.2])\n",
    "\n",
    "sample_coo = coo_matrix((sample_weights, (sample_row, sample_column)), shape=(5,5))\n",
    "\n",
    "testing_weighted_network = Network(ref_list=[\"s1\", \"s2\", \"s3\", \"s4\", \"s5\"], backend=\"GT\", outdir=\"tests/\")\n",
    "testing_weighted_network.construct(network_data = sample_coo)\n",
    "\n"
   ]
  }
 ],
 "metadata": {
  "kernelspec": {
   "display_name": "Python 3.8.2 ('poppunk_intel')",
   "language": "python",
   "name": "python3"
  },
  "language_info": {
   "codemirror_mode": {
    "name": "ipython",
    "version": 3
   },
   "file_extension": ".py",
   "mimetype": "text/x-python",
   "name": "python",
   "nbconvert_exporter": "python",
   "pygments_lexer": "ipython3",
   "version": "3.8.2"
  },
  "orig_nbformat": 4,
  "vscode": {
   "interpreter": {
    "hash": "cd28f33ff27b3818a5bb292a1550c8c09aeaa24e9abac2f929c93572bb2ab100"
   }
  }
 },
 "nbformat": 4,
 "nbformat_minor": 2
}
